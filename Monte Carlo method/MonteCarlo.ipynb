{
 "cells": [
  {
   "cell_type": "markdown",
   "metadata": {},
   "source": [
    "# 蒙特卡洛算法"
   ]
  },
  {
   "cell_type": "markdown",
   "metadata": {},
   "source": [
    "## 1、定义算法"
   ]
  },
  {
   "cell_type": "code",
   "execution_count": 1,
   "metadata": {
    "ExecuteTime": {
     "start_time": "2023-04-05T20:05:55.226711Z",
     "end_time": "2023-04-05T20:05:55.230589Z"
    }
   },
   "outputs": [],
   "source": [
    "import numpy as np\n",
    "from collections import defaultdict\n",
    "class FisrtVisitMC:\n",
    "    ''' On-Policy First-Visit MC Control\n",
    "    '''\n",
    "    def __init__(self,cfg):\n",
    "        self.n_actions = cfg.n_actions\n",
    "        self.epsilon = cfg.epsilon\n",
    "        self.gamma = cfg.gamma \n",
    "        self.Q_table = defaultdict(lambda: np.zeros(cfg.n_actions))\n",
    "        self.returns_sum = defaultdict(float) # 保存return之和\n",
    "        self.returns_count = defaultdict(float)\n",
    "        \n",
    "    def sample_action(self,state):\n",
    "        state = str(state)\n",
    "        if state in self.Q_table.keys():\n",
    "            best_action = np.argmax(self.Q_table[state])\n",
    "            action_probs = np.ones(self.n_actions, dtype=float) * self.epsilon / self.n_actions\n",
    "            action_probs[best_action] += (1.0 - self.epsilon)\n",
    "            action = np.random.choice(np.arange(len(action_probs)), p=action_probs)\n",
    "        else:\n",
    "            action = np.random.randint(0,self.n_actions)\n",
    "        return action\n",
    "    def predict_action(self,state):\n",
    "        state = str(state)\n",
    "        if state in self.Q_table.keys():\n",
    "            best_action = np.argmax(self.Q_table[state])\n",
    "            action_probs = np.ones(self.n_actions, dtype=float) * self.epsilon / self.n_actions\n",
    "            action_probs[best_action] += (1.0 - self.epsilon)\n",
    "            action = np.argmax(self.Q_table[state])\n",
    "        else:\n",
    "            action = np.random.randint(0,self.n_actions)\n",
    "        return action\n",
    "    def update(self,one_ep_transition):\n",
    "        # Find all (state, action) pairs we've visited in this one_ep_transition\n",
    "        # We convert each state to a tuple so that we can use it as a dict key\n",
    "        sa_in_episode = set([(str(x[0]), x[1]) for x in one_ep_transition])\n",
    "        for state, action in sa_in_episode:\n",
    "            sa_pair = (state, action)\n",
    "            # Find the first occurence of the (state, action) pair in the one_ep_transition\n",
    "\n",
    "            first_occurence_idx = next(i for i,x in enumerate(one_ep_transition)\n",
    "                                       if str(x[0]) == state and x[1] == action)\n",
    "            # Sum up all rewards since the first occurance\n",
    "            G = sum([x[2]*(self.gamma**i) for i,x in enumerate(one_ep_transition[first_occurence_idx:])])\n",
    "            # Calculate average return for this state over all sampled episodes\n",
    "            self.returns_sum[sa_pair] += G\n",
    "            self.returns_count[sa_pair] += 1.0\n",
    "            self.Q_table[state][action] = self.returns_sum[sa_pair] / self.returns_count[sa_pair]"
   ]
  },
  {
   "cell_type": "markdown",
   "metadata": {},
   "source": [
    "## 2、定义训练"
   ]
  },
  {
   "cell_type": "code",
   "execution_count": 2,
   "metadata": {
    "ExecuteTime": {
     "start_time": "2023-04-05T20:05:55.240896Z",
     "end_time": "2023-04-05T20:05:55.243001Z"
    }
   },
   "outputs": [],
   "source": [
    "def train(cfg,env,agent):\n",
    "    print('开始训练！')\n",
    "    print(f'环境:{cfg.env_name}, 算法:{cfg.algo_name}, 设备:{cfg.device}')\n",
    "    rewards = []  # 记录奖励\n",
    "    for i_ep in range(cfg.train_eps):\n",
    "        ep_reward = 0  # 记录每个回合的奖励\n",
    "        one_ep_transition = []\n",
    "        state = env.reset(seed=cfg.seed) # 重置环境,即开始新的回合\n",
    "        for _ in range(cfg.max_steps):\n",
    "            action = agent.sample_action(state)  # 根据算法采样一个动作\n",
    "            next_state, reward, terminated, info = env.step(action)   # 与环境进行一次动作交互\n",
    "            one_ep_transition.append((state, action, reward))  # 保存transitions\n",
    "            agent.update(one_ep_transition)  # 更新智能体\n",
    "            state = next_state  # 更新状态\n",
    "            ep_reward += reward  \n",
    "            if terminated:\n",
    "                break\n",
    "        rewards.append(ep_reward)\n",
    "        print(f\"回合：{i_ep+1}/{cfg.train_eps}，奖励：{ep_reward:.1f}\")\n",
    "    print('完成训练！')\n",
    "    return {\"rewards\":rewards}\n",
    "def test(cfg,env,agent):\n",
    "    print('开始测试！')\n",
    "    print(f'环境：{cfg.env_name}, 算法：{cfg.algo_name}, 设备：{cfg.device}')\n",
    "    rewards = []  # 记录所有回合的奖励\n",
    "    for i_ep in range(cfg.test_eps):\n",
    "        ep_reward = 0  # 记录每个episode的reward\n",
    "        state = env.reset(seed=cfg.seed)  # 重置环境, 重新开一局（即开始新的一个回合）\n",
    "        for _ in range(cfg.max_steps):\n",
    "            action = agent.predict_action(state)  # 根据算法选择一个动作\n",
    "            next_state, reward, terminated, info = env.step(action)  # 与环境进行一个交互\n",
    "            state = next_state  # 更新状态\n",
    "            ep_reward += reward\n",
    "            if terminated:\n",
    "                break\n",
    "        rewards.append(ep_reward)\n",
    "        print(f\"回合数：{i_ep+1}/{cfg.test_eps}, 奖励：{ep_reward:.1f}\")\n",
    "    print('完成测试！')\n",
    "    return {\"rewards\":rewards}"
   ]
  },
  {
   "cell_type": "markdown",
   "metadata": {},
   "source": [
    "## 3、定义环境"
   ]
  },
  {
   "cell_type": "code",
   "execution_count": 5,
   "metadata": {
    "ExecuteTime": {
     "start_time": "2023-04-05T20:07:44.139536Z",
     "end_time": "2023-04-05T20:07:44.300647Z"
    }
   },
   "outputs": [],
   "source": [
    "import sys,os\n",
    "sys.path.append(os.path.abspath(os.path.join(os.getcwd(), \"../..\")))\n",
    "import torch\n",
    "import numpy as np\n",
    "import random\n",
    "from racetrack import RacetrackEnv\n",
    "\n",
    "def all_seed(env,seed = 1):\n",
    "    ''' omnipotent seed for RL, attention the position of seed function, you'd better put it just following the env create function\n",
    "    '''\n",
    "    if seed == 0:\n",
    "        return\n",
    "    # print(f\"seed = {seed}\")\n",
    "    env.seed(seed) # env config\n",
    "    np.random.seed(seed)\n",
    "    random.seed(seed)\n",
    "    torch.manual_seed(seed) # config for CPU\n",
    "    torch.cuda.manual_seed(seed) # config for GPU\n",
    "    os.environ['PYTHONHASHSEED'] = str(seed) # config for python scripts\n",
    "    # config for cudnn\n",
    "    torch.backends.cudnn.deterministic = True\n",
    "    torch.backends.cudnn.benchmark = False\n",
    "    torch.backends.cudnn.enabled = False\n",
    "    \n",
    "def env_agent_config(cfg):\n",
    "    '''创建环境和智能体\n",
    "    '''    \n",
    "    env = RacetrackEnv()  # 创建环境\n",
    "    #all_seed(env,seed=cfg.seed)\n",
    "    n_states = env.observation_space.shape[0]  # 状态空间维度\n",
    "    n_actions = env.action_space.n # 动作空间维度\n",
    "    setattr(cfg, 'n_states', n_states) # 将状态维度添加到配置参数中\n",
    "    setattr(cfg, 'n_actions', n_actions) # 将动作维度添加到配置参数中\n",
    "    agent = FisrtVisitMC(cfg)\n",
    "    return env,agent"
   ]
  },
  {
   "cell_type": "markdown",
   "metadata": {},
   "source": [
    "## 4、设置参数"
   ]
  },
  {
   "cell_type": "code",
   "execution_count": 6,
   "metadata": {
    "ExecuteTime": {
     "start_time": "2023-04-05T20:07:45.954401Z",
     "end_time": "2023-04-05T20:07:45.960750Z"
    }
   },
   "outputs": [],
   "source": [
    "import torch\n",
    "import matplotlib.pyplot as plt\n",
    "import seaborn as sns\n",
    "class Config:\n",
    "    '''配置参数\n",
    "    '''\n",
    "    def __init__(self):\n",
    "        self.env_name = 'Racetrack-v0' # 环境名称\n",
    "        self.algo_name = \"FirstVisitMC\" # 算法名称\n",
    "        self.train_eps = 400 # 训练回合数\n",
    "        self.test_eps = 20 # 测试回合数\n",
    "        self.max_steps = 200 # 每个回合最大步数\n",
    "        self.epsilon = 0.1 # 贪婪度\n",
    "        self.gamma = 0.9 # 折扣因子\n",
    "        self.lr = 0.5 # 学习率\n",
    "        self.seed = 1 # 随机种子\n",
    "        # if torch.cuda.is_available(): # 是否使用GPUs\n",
    "        #     self.device = torch.device('cuda')\n",
    "        # else:\n",
    "        #     self.device = torch.device('cpu')\n",
    "        self.device = torch.device('cpu')\n",
    "def smooth(data, weight=0.9):  \n",
    "    '''用于平滑曲线\n",
    "    '''\n",
    "    last = data[0]  # First value in the plot (first timestep)\n",
    "    smoothed = list()\n",
    "    for point in data:\n",
    "        smoothed_val = last * weight + (1 - weight) * point  # 计算平滑值\n",
    "        smoothed.append(smoothed_val)                    \n",
    "        last = smoothed_val                                \n",
    "    return smoothed\n",
    "\n",
    "def plot_rewards(rewards,title=\"learning curve\"):\n",
    "    sns.set()\n",
    "    plt.figure()  # 创建一个图形实例，方便同时多画几个图\n",
    "    plt.title(f\"{title}\")\n",
    "    plt.xlim(0, len(rewards), 10)  # 设置x轴的范围\n",
    "    plt.xlabel('epsiodes')\n",
    "    plt.plot(rewards, label='rewards')\n",
    "    plt.plot(smooth(rewards), label='smoothed')\n",
    "    plt.legend()"
   ]
  },
  {
   "cell_type": "markdown",
   "metadata": {},
   "source": [
    "## 5、开始训练"
   ]
  },
  {
   "cell_type": "code",
   "execution_count": 8,
   "metadata": {},
   "outputs": [
    {
     "name": "stdout",
     "output_type": "stream",
     "text": [
      "开始训练！\n",
      "环境:Racetrack-v0, 算法:FirstVisitMC, 设备:cpu\n",
      "回合：1/400，奖励：-650.0\n",
      "回合：2/400，奖励：-496.0\n",
      "回合：3/400，奖励：-540.0\n",
      "回合：4/400，奖励：-450.0\n",
      "回合：5/400，奖励：-460.0\n",
      "回合：6/400，奖励：-500.0\n",
      "回合：7/400，奖励：-544.0\n"
     ]
    },
    {
     "ename": "KeyboardInterrupt",
     "evalue": "",
     "output_type": "error",
     "traceback": [
      "\u001B[0;31m---------------------------------------------------------------------------\u001B[0m",
      "\u001B[0;31mKeyboardInterrupt\u001B[0m                         Traceback (most recent call last)",
      "Cell \u001B[0;32mIn[8], line 5\u001B[0m\n\u001B[1;32m      3\u001B[0m \u001B[38;5;66;03m# 训练\u001B[39;00m\n\u001B[1;32m      4\u001B[0m env, agent \u001B[38;5;241m=\u001B[39m env_agent_config(cfg)\n\u001B[0;32m----> 5\u001B[0m res_dic \u001B[38;5;241m=\u001B[39m \u001B[43mtrain\u001B[49m\u001B[43m(\u001B[49m\u001B[43mcfg\u001B[49m\u001B[43m,\u001B[49m\u001B[43m \u001B[49m\u001B[43menv\u001B[49m\u001B[43m,\u001B[49m\u001B[43m \u001B[49m\u001B[43magent\u001B[49m\u001B[43m)\u001B[49m\n\u001B[1;32m      7\u001B[0m plot_rewards(res_dic[\u001B[38;5;124m'\u001B[39m\u001B[38;5;124mrewards\u001B[39m\u001B[38;5;124m'\u001B[39m], title\u001B[38;5;241m=\u001B[39m\u001B[38;5;124mf\u001B[39m\u001B[38;5;124m\"\u001B[39m\u001B[38;5;124mtraining curve on \u001B[39m\u001B[38;5;132;01m{\u001B[39;00mcfg\u001B[38;5;241m.\u001B[39mdevice\u001B[38;5;132;01m}\u001B[39;00m\u001B[38;5;124m of \u001B[39m\u001B[38;5;132;01m{\u001B[39;00mcfg\u001B[38;5;241m.\u001B[39malgo_name\u001B[38;5;132;01m}\u001B[39;00m\u001B[38;5;124m for \u001B[39m\u001B[38;5;132;01m{\u001B[39;00mcfg\u001B[38;5;241m.\u001B[39menv_name\u001B[38;5;132;01m}\u001B[39;00m\u001B[38;5;124m\"\u001B[39m)  \n\u001B[1;32m      8\u001B[0m \u001B[38;5;66;03m# 测试\u001B[39;00m\n",
      "Cell \u001B[0;32mIn[2], line 13\u001B[0m, in \u001B[0;36mtrain\u001B[0;34m(cfg, env, agent)\u001B[0m\n\u001B[1;32m     11\u001B[0m next_state, reward, terminated, info \u001B[38;5;241m=\u001B[39m env\u001B[38;5;241m.\u001B[39mstep(action)   \u001B[38;5;66;03m# 与环境进行一次动作交互\u001B[39;00m\n\u001B[1;32m     12\u001B[0m one_ep_transition\u001B[38;5;241m.\u001B[39mappend((state, action, reward))  \u001B[38;5;66;03m# 保存transitions\u001B[39;00m\n\u001B[0;32m---> 13\u001B[0m \u001B[43magent\u001B[49m\u001B[38;5;241;43m.\u001B[39;49m\u001B[43mupdate\u001B[49m\u001B[43m(\u001B[49m\u001B[43mone_ep_transition\u001B[49m\u001B[43m)\u001B[49m  \u001B[38;5;66;03m# 更新智能体\u001B[39;00m\n\u001B[1;32m     14\u001B[0m state \u001B[38;5;241m=\u001B[39m next_state  \u001B[38;5;66;03m# 更新状态\u001B[39;00m\n\u001B[1;32m     15\u001B[0m ep_reward \u001B[38;5;241m+\u001B[39m\u001B[38;5;241m=\u001B[39m reward  \n",
      "Cell \u001B[0;32mIn[1], line 42\u001B[0m, in \u001B[0;36mFisrtVisitMC.update\u001B[0;34m(self, one_ep_transition)\u001B[0m\n\u001B[1;32m     39\u001B[0m sa_pair \u001B[38;5;241m=\u001B[39m (state, action)\n\u001B[1;32m     40\u001B[0m \u001B[38;5;66;03m# Find the first occurence of the (state, action) pair in the one_ep_transition\u001B[39;00m\n\u001B[0;32m---> 42\u001B[0m first_occurence_idx \u001B[38;5;241m=\u001B[39m \u001B[38;5;28;43mnext\u001B[39;49m\u001B[43m(\u001B[49m\u001B[43mi\u001B[49m\u001B[43m \u001B[49m\u001B[38;5;28;43;01mfor\u001B[39;49;00m\u001B[43m \u001B[49m\u001B[43mi\u001B[49m\u001B[43m,\u001B[49m\u001B[43mx\u001B[49m\u001B[43m \u001B[49m\u001B[38;5;129;43;01min\u001B[39;49;00m\u001B[43m \u001B[49m\u001B[38;5;28;43menumerate\u001B[39;49m\u001B[43m(\u001B[49m\u001B[43mone_ep_transition\u001B[49m\u001B[43m)\u001B[49m\n\u001B[1;32m     43\u001B[0m \u001B[43m                           \u001B[49m\u001B[38;5;28;43;01mif\u001B[39;49;00m\u001B[43m \u001B[49m\u001B[38;5;28;43mstr\u001B[39;49m\u001B[43m(\u001B[49m\u001B[43mx\u001B[49m\u001B[43m[\u001B[49m\u001B[38;5;241;43m0\u001B[39;49m\u001B[43m]\u001B[49m\u001B[43m)\u001B[49m\u001B[43m \u001B[49m\u001B[38;5;241;43m==\u001B[39;49m\u001B[43m \u001B[49m\u001B[43mstate\u001B[49m\u001B[43m \u001B[49m\u001B[38;5;129;43;01mand\u001B[39;49;00m\u001B[43m \u001B[49m\u001B[43mx\u001B[49m\u001B[43m[\u001B[49m\u001B[38;5;241;43m1\u001B[39;49m\u001B[43m]\u001B[49m\u001B[43m \u001B[49m\u001B[38;5;241;43m==\u001B[39;49m\u001B[43m \u001B[49m\u001B[43maction\u001B[49m\u001B[43m)\u001B[49m\n\u001B[1;32m     44\u001B[0m \u001B[38;5;66;03m# Sum up all rewards since the first occurance\u001B[39;00m\n\u001B[1;32m     45\u001B[0m G \u001B[38;5;241m=\u001B[39m \u001B[38;5;28msum\u001B[39m([x[\u001B[38;5;241m2\u001B[39m]\u001B[38;5;241m*\u001B[39m(\u001B[38;5;28mself\u001B[39m\u001B[38;5;241m.\u001B[39mgamma\u001B[38;5;241m*\u001B[39m\u001B[38;5;241m*\u001B[39mi) \u001B[38;5;28;01mfor\u001B[39;00m i,x \u001B[38;5;129;01min\u001B[39;00m \u001B[38;5;28menumerate\u001B[39m(one_ep_transition[first_occurence_idx:])])\n",
      "Cell \u001B[0;32mIn[1], line 43\u001B[0m, in \u001B[0;36m<genexpr>\u001B[0;34m(.0)\u001B[0m\n\u001B[1;32m     39\u001B[0m sa_pair \u001B[38;5;241m=\u001B[39m (state, action)\n\u001B[1;32m     40\u001B[0m \u001B[38;5;66;03m# Find the first occurence of the (state, action) pair in the one_ep_transition\u001B[39;00m\n\u001B[1;32m     42\u001B[0m first_occurence_idx \u001B[38;5;241m=\u001B[39m \u001B[38;5;28mnext\u001B[39m(i \u001B[38;5;28;01mfor\u001B[39;00m i,x \u001B[38;5;129;01min\u001B[39;00m \u001B[38;5;28menumerate\u001B[39m(one_ep_transition)\n\u001B[0;32m---> 43\u001B[0m                            \u001B[38;5;28;01mif\u001B[39;00m \u001B[38;5;28;43mstr\u001B[39;49m\u001B[43m(\u001B[49m\u001B[43mx\u001B[49m\u001B[43m[\u001B[49m\u001B[38;5;241;43m0\u001B[39;49m\u001B[43m]\u001B[49m\u001B[43m)\u001B[49m \u001B[38;5;241m==\u001B[39m state \u001B[38;5;129;01mand\u001B[39;00m x[\u001B[38;5;241m1\u001B[39m] \u001B[38;5;241m==\u001B[39m action)\n\u001B[1;32m     44\u001B[0m \u001B[38;5;66;03m# Sum up all rewards since the first occurance\u001B[39;00m\n\u001B[1;32m     45\u001B[0m G \u001B[38;5;241m=\u001B[39m \u001B[38;5;28msum\u001B[39m([x[\u001B[38;5;241m2\u001B[39m]\u001B[38;5;241m*\u001B[39m(\u001B[38;5;28mself\u001B[39m\u001B[38;5;241m.\u001B[39mgamma\u001B[38;5;241m*\u001B[39m\u001B[38;5;241m*\u001B[39mi) \u001B[38;5;28;01mfor\u001B[39;00m i,x \u001B[38;5;129;01min\u001B[39;00m \u001B[38;5;28menumerate\u001B[39m(one_ep_transition[first_occurence_idx:])])\n",
      "File \u001B[0;32m~/miniconda3/envs/cat/lib/python3.10/site-packages/numpy/core/arrayprint.py:1592\u001B[0m, in \u001B[0;36m_array_str_implementation\u001B[0;34m(a, max_line_width, precision, suppress_small, array2string)\u001B[0m\n\u001B[1;32m   1586\u001B[0m \u001B[38;5;28;01mif\u001B[39;00m a\u001B[38;5;241m.\u001B[39mshape \u001B[38;5;241m==\u001B[39m ():\n\u001B[1;32m   1587\u001B[0m     \u001B[38;5;66;03m# obtain a scalar and call str on it, avoiding problems for subclasses\u001B[39;00m\n\u001B[1;32m   1588\u001B[0m     \u001B[38;5;66;03m# for which indexing with () returns a 0d instead of a scalar by using\u001B[39;00m\n\u001B[1;32m   1589\u001B[0m     \u001B[38;5;66;03m# ndarray's getindex. Also guard against recursive 0d object arrays.\u001B[39;00m\n\u001B[1;32m   1590\u001B[0m     \u001B[38;5;28;01mreturn\u001B[39;00m _guarded_repr_or_str(np\u001B[38;5;241m.\u001B[39mndarray\u001B[38;5;241m.\u001B[39m\u001B[38;5;21m__getitem__\u001B[39m(a, ()))\n\u001B[0;32m-> 1592\u001B[0m \u001B[38;5;28;01mreturn\u001B[39;00m \u001B[43marray2string\u001B[49m\u001B[43m(\u001B[49m\u001B[43ma\u001B[49m\u001B[43m,\u001B[49m\u001B[43m \u001B[49m\u001B[43mmax_line_width\u001B[49m\u001B[43m,\u001B[49m\u001B[43m \u001B[49m\u001B[43mprecision\u001B[49m\u001B[43m,\u001B[49m\u001B[43m \u001B[49m\u001B[43msuppress_small\u001B[49m\u001B[43m,\u001B[49m\u001B[43m \u001B[49m\u001B[38;5;124;43m'\u001B[39;49m\u001B[38;5;124;43m \u001B[39;49m\u001B[38;5;124;43m'\u001B[39;49m\u001B[43m,\u001B[49m\u001B[43m \u001B[49m\u001B[38;5;124;43m\"\u001B[39;49m\u001B[38;5;124;43m\"\u001B[39;49m\u001B[43m)\u001B[49m\n",
      "File \u001B[0;32m~/miniconda3/envs/cat/lib/python3.10/site-packages/numpy/core/arrayprint.py:736\u001B[0m, in \u001B[0;36marray2string\u001B[0;34m(a, max_line_width, precision, suppress_small, separator, prefix, style, formatter, threshold, edgeitems, sign, floatmode, suffix, legacy)\u001B[0m\n\u001B[1;32m    733\u001B[0m \u001B[38;5;28;01mif\u001B[39;00m a\u001B[38;5;241m.\u001B[39msize \u001B[38;5;241m==\u001B[39m \u001B[38;5;241m0\u001B[39m:\n\u001B[1;32m    734\u001B[0m     \u001B[38;5;28;01mreturn\u001B[39;00m \u001B[38;5;124m\"\u001B[39m\u001B[38;5;124m[]\u001B[39m\u001B[38;5;124m\"\u001B[39m\n\u001B[0;32m--> 736\u001B[0m \u001B[38;5;28;01mreturn\u001B[39;00m \u001B[43m_array2string\u001B[49m\u001B[43m(\u001B[49m\u001B[43ma\u001B[49m\u001B[43m,\u001B[49m\u001B[43m \u001B[49m\u001B[43moptions\u001B[49m\u001B[43m,\u001B[49m\u001B[43m \u001B[49m\u001B[43mseparator\u001B[49m\u001B[43m,\u001B[49m\u001B[43m \u001B[49m\u001B[43mprefix\u001B[49m\u001B[43m)\u001B[49m\n",
      "File \u001B[0;32m~/miniconda3/envs/cat/lib/python3.10/site-packages/numpy/core/arrayprint.py:513\u001B[0m, in \u001B[0;36m_recursive_guard.<locals>.decorating_function.<locals>.wrapper\u001B[0;34m(self, *args, **kwargs)\u001B[0m\n\u001B[1;32m    511\u001B[0m repr_running\u001B[38;5;241m.\u001B[39madd(key)\n\u001B[1;32m    512\u001B[0m \u001B[38;5;28;01mtry\u001B[39;00m:\n\u001B[0;32m--> 513\u001B[0m     \u001B[38;5;28;01mreturn\u001B[39;00m \u001B[43mf\u001B[49m\u001B[43m(\u001B[49m\u001B[38;5;28;43mself\u001B[39;49m\u001B[43m,\u001B[49m\u001B[43m \u001B[49m\u001B[38;5;241;43m*\u001B[39;49m\u001B[43margs\u001B[49m\u001B[43m,\u001B[49m\u001B[43m \u001B[49m\u001B[38;5;241;43m*\u001B[39;49m\u001B[38;5;241;43m*\u001B[39;49m\u001B[43mkwargs\u001B[49m\u001B[43m)\u001B[49m\n\u001B[1;32m    514\u001B[0m \u001B[38;5;28;01mfinally\u001B[39;00m:\n\u001B[1;32m    515\u001B[0m     repr_running\u001B[38;5;241m.\u001B[39mdiscard(key)\n",
      "File \u001B[0;32m~/miniconda3/envs/cat/lib/python3.10/site-packages/numpy/core/arrayprint.py:539\u001B[0m, in \u001B[0;36m_array2string\u001B[0;34m(a, options, separator, prefix)\u001B[0m\n\u001B[1;32m    536\u001B[0m     summary_insert \u001B[38;5;241m=\u001B[39m \u001B[38;5;124m\"\u001B[39m\u001B[38;5;124m\"\u001B[39m\n\u001B[1;32m    538\u001B[0m \u001B[38;5;66;03m# find the right formatting function for the array\u001B[39;00m\n\u001B[0;32m--> 539\u001B[0m format_function \u001B[38;5;241m=\u001B[39m \u001B[43m_get_format_function\u001B[49m\u001B[43m(\u001B[49m\u001B[43mdata\u001B[49m\u001B[43m,\u001B[49m\u001B[43m \u001B[49m\u001B[38;5;241;43m*\u001B[39;49m\u001B[38;5;241;43m*\u001B[39;49m\u001B[43moptions\u001B[49m\u001B[43m)\u001B[49m\n\u001B[1;32m    541\u001B[0m \u001B[38;5;66;03m# skip over \"[\"\u001B[39;00m\n\u001B[1;32m    542\u001B[0m next_line_prefix \u001B[38;5;241m=\u001B[39m \u001B[38;5;124m\"\u001B[39m\u001B[38;5;124m \u001B[39m\u001B[38;5;124m\"\u001B[39m\n",
      "File \u001B[0;32m~/miniconda3/envs/cat/lib/python3.10/site-packages/numpy/core/arrayprint.py:467\u001B[0m, in \u001B[0;36m_get_format_function\u001B[0;34m(data, **options)\u001B[0m\n\u001B[1;32m    465\u001B[0m         \u001B[38;5;28;01mreturn\u001B[39;00m formatdict[\u001B[38;5;124m'\u001B[39m\u001B[38;5;124mtimedelta\u001B[39m\u001B[38;5;124m'\u001B[39m]()\n\u001B[1;32m    466\u001B[0m     \u001B[38;5;28;01melse\u001B[39;00m:\n\u001B[0;32m--> 467\u001B[0m         \u001B[38;5;28;01mreturn\u001B[39;00m \u001B[43mformatdict\u001B[49m\u001B[43m[\u001B[49m\u001B[38;5;124;43m'\u001B[39;49m\u001B[38;5;124;43mint\u001B[39;49m\u001B[38;5;124;43m'\u001B[39;49m\u001B[43m]\u001B[49m\u001B[43m(\u001B[49m\u001B[43m)\u001B[49m\n\u001B[1;32m    468\u001B[0m \u001B[38;5;28;01melif\u001B[39;00m \u001B[38;5;28missubclass\u001B[39m(dtypeobj, _nt\u001B[38;5;241m.\u001B[39mfloating):\n\u001B[1;32m    469\u001B[0m     \u001B[38;5;28;01mif\u001B[39;00m \u001B[38;5;28missubclass\u001B[39m(dtypeobj, _nt\u001B[38;5;241m.\u001B[39mlongfloat):\n",
      "File \u001B[0;32m~/miniconda3/envs/cat/lib/python3.10/site-packages/numpy/core/arrayprint.py:410\u001B[0m, in \u001B[0;36m_get_formatdict.<locals>.<lambda>\u001B[0;34m()\u001B[0m\n\u001B[1;32m    403\u001B[0m \u001B[38;5;28;01mdef\u001B[39;00m \u001B[38;5;21m_get_formatdict\u001B[39m(data, \u001B[38;5;241m*\u001B[39m, precision, floatmode, suppress, sign, legacy,\n\u001B[1;32m    404\u001B[0m                     formatter, \u001B[38;5;241m*\u001B[39m\u001B[38;5;241m*\u001B[39mkwargs):\n\u001B[1;32m    405\u001B[0m     \u001B[38;5;66;03m# note: extra arguments in kwargs are ignored\u001B[39;00m\n\u001B[1;32m    406\u001B[0m \n\u001B[1;32m    407\u001B[0m     \u001B[38;5;66;03m# wrapped in lambdas to avoid taking a code path with the wrong type of data\u001B[39;00m\n\u001B[1;32m    408\u001B[0m     formatdict \u001B[38;5;241m=\u001B[39m {\n\u001B[1;32m    409\u001B[0m         \u001B[38;5;124m'\u001B[39m\u001B[38;5;124mbool\u001B[39m\u001B[38;5;124m'\u001B[39m: \u001B[38;5;28;01mlambda\u001B[39;00m: BoolFormat(data),\n\u001B[0;32m--> 410\u001B[0m         \u001B[38;5;124m'\u001B[39m\u001B[38;5;124mint\u001B[39m\u001B[38;5;124m'\u001B[39m: \u001B[38;5;28;01mlambda\u001B[39;00m: \u001B[43mIntegerFormat\u001B[49m\u001B[43m(\u001B[49m\u001B[43mdata\u001B[49m\u001B[43m)\u001B[49m,\n\u001B[1;32m    411\u001B[0m         \u001B[38;5;124m'\u001B[39m\u001B[38;5;124mfloat\u001B[39m\u001B[38;5;124m'\u001B[39m: \u001B[38;5;28;01mlambda\u001B[39;00m: FloatingFormat(\n\u001B[1;32m    412\u001B[0m             data, precision, floatmode, suppress, sign, legacy\u001B[38;5;241m=\u001B[39mlegacy),\n\u001B[1;32m    413\u001B[0m         \u001B[38;5;124m'\u001B[39m\u001B[38;5;124mlongfloat\u001B[39m\u001B[38;5;124m'\u001B[39m: \u001B[38;5;28;01mlambda\u001B[39;00m: FloatingFormat(\n\u001B[1;32m    414\u001B[0m             data, precision, floatmode, suppress, sign, legacy\u001B[38;5;241m=\u001B[39mlegacy),\n\u001B[1;32m    415\u001B[0m         \u001B[38;5;124m'\u001B[39m\u001B[38;5;124mcomplexfloat\u001B[39m\u001B[38;5;124m'\u001B[39m: \u001B[38;5;28;01mlambda\u001B[39;00m: ComplexFloatingFormat(\n\u001B[1;32m    416\u001B[0m             data, precision, floatmode, suppress, sign, legacy\u001B[38;5;241m=\u001B[39mlegacy),\n\u001B[1;32m    417\u001B[0m         \u001B[38;5;124m'\u001B[39m\u001B[38;5;124mlongcomplexfloat\u001B[39m\u001B[38;5;124m'\u001B[39m: \u001B[38;5;28;01mlambda\u001B[39;00m: ComplexFloatingFormat(\n\u001B[1;32m    418\u001B[0m             data, precision, floatmode, suppress, sign, legacy\u001B[38;5;241m=\u001B[39mlegacy),\n\u001B[1;32m    419\u001B[0m         \u001B[38;5;124m'\u001B[39m\u001B[38;5;124mdatetime\u001B[39m\u001B[38;5;124m'\u001B[39m: \u001B[38;5;28;01mlambda\u001B[39;00m: DatetimeFormat(data, legacy\u001B[38;5;241m=\u001B[39mlegacy),\n\u001B[1;32m    420\u001B[0m         \u001B[38;5;124m'\u001B[39m\u001B[38;5;124mtimedelta\u001B[39m\u001B[38;5;124m'\u001B[39m: \u001B[38;5;28;01mlambda\u001B[39;00m: TimedeltaFormat(data),\n\u001B[1;32m    421\u001B[0m         \u001B[38;5;124m'\u001B[39m\u001B[38;5;124mobject\u001B[39m\u001B[38;5;124m'\u001B[39m: \u001B[38;5;28;01mlambda\u001B[39;00m: _object_format,\n\u001B[1;32m    422\u001B[0m         \u001B[38;5;124m'\u001B[39m\u001B[38;5;124mvoid\u001B[39m\u001B[38;5;124m'\u001B[39m: \u001B[38;5;28;01mlambda\u001B[39;00m: str_format,\n\u001B[1;32m    423\u001B[0m         \u001B[38;5;124m'\u001B[39m\u001B[38;5;124mnumpystr\u001B[39m\u001B[38;5;124m'\u001B[39m: \u001B[38;5;28;01mlambda\u001B[39;00m: repr_format}\n\u001B[1;32m    425\u001B[0m     \u001B[38;5;66;03m# we need to wrap values in `formatter` in a lambda, so that the interface\u001B[39;00m\n\u001B[1;32m    426\u001B[0m     \u001B[38;5;66;03m# is the same as the above values.\u001B[39;00m\n\u001B[1;32m    427\u001B[0m     \u001B[38;5;28;01mdef\u001B[39;00m \u001B[38;5;21mindirect\u001B[39m(x):\n",
      "File \u001B[0;32m~/miniconda3/envs/cat/lib/python3.10/site-packages/numpy/core/arrayprint.py:1226\u001B[0m, in \u001B[0;36mIntegerFormat.__init__\u001B[0;34m(self, data)\u001B[0m\n\u001B[1;32m   1223\u001B[0m \u001B[38;5;28;01mdef\u001B[39;00m \u001B[38;5;21m__init__\u001B[39m(\u001B[38;5;28mself\u001B[39m, data):\n\u001B[1;32m   1224\u001B[0m     \u001B[38;5;28;01mif\u001B[39;00m data\u001B[38;5;241m.\u001B[39msize \u001B[38;5;241m>\u001B[39m \u001B[38;5;241m0\u001B[39m:\n\u001B[1;32m   1225\u001B[0m         max_str_len \u001B[38;5;241m=\u001B[39m \u001B[38;5;28mmax\u001B[39m(\u001B[38;5;28mlen\u001B[39m(\u001B[38;5;28mstr\u001B[39m(np\u001B[38;5;241m.\u001B[39mmax(data))),\n\u001B[0;32m-> 1226\u001B[0m                           \u001B[38;5;28mlen\u001B[39m(\u001B[38;5;28mstr\u001B[39m(\u001B[43mnp\u001B[49m\u001B[38;5;241;43m.\u001B[39;49m\u001B[43mmin\u001B[49m\u001B[43m(\u001B[49m\u001B[43mdata\u001B[49m\u001B[43m)\u001B[49m)))\n\u001B[1;32m   1227\u001B[0m     \u001B[38;5;28;01melse\u001B[39;00m:\n\u001B[1;32m   1228\u001B[0m         max_str_len \u001B[38;5;241m=\u001B[39m \u001B[38;5;241m0\u001B[39m\n",
      "File \u001B[0;32m<__array_function__ internals>:180\u001B[0m, in \u001B[0;36mamin\u001B[0;34m(*args, **kwargs)\u001B[0m\n",
      "File \u001B[0;32m~/miniconda3/envs/cat/lib/python3.10/site-packages/numpy/core/fromnumeric.py:2918\u001B[0m, in \u001B[0;36mamin\u001B[0;34m(a, axis, out, keepdims, initial, where)\u001B[0m\n\u001B[1;32m   2802\u001B[0m \u001B[38;5;129m@array_function_dispatch\u001B[39m(_amin_dispatcher)\n\u001B[1;32m   2803\u001B[0m \u001B[38;5;28;01mdef\u001B[39;00m \u001B[38;5;21mamin\u001B[39m(a, axis\u001B[38;5;241m=\u001B[39m\u001B[38;5;28;01mNone\u001B[39;00m, out\u001B[38;5;241m=\u001B[39m\u001B[38;5;28;01mNone\u001B[39;00m, keepdims\u001B[38;5;241m=\u001B[39mnp\u001B[38;5;241m.\u001B[39m_NoValue, initial\u001B[38;5;241m=\u001B[39mnp\u001B[38;5;241m.\u001B[39m_NoValue,\n\u001B[1;32m   2804\u001B[0m          where\u001B[38;5;241m=\u001B[39mnp\u001B[38;5;241m.\u001B[39m_NoValue):\n\u001B[1;32m   2805\u001B[0m \u001B[38;5;250m    \u001B[39m\u001B[38;5;124;03m\"\"\"\u001B[39;00m\n\u001B[1;32m   2806\u001B[0m \u001B[38;5;124;03m    Return the minimum of an array or minimum along an axis.\u001B[39;00m\n\u001B[1;32m   2807\u001B[0m \n\u001B[0;32m   (...)\u001B[0m\n\u001B[1;32m   2916\u001B[0m \u001B[38;5;124;03m    6\u001B[39;00m\n\u001B[1;32m   2917\u001B[0m \u001B[38;5;124;03m    \"\"\"\u001B[39;00m\n\u001B[0;32m-> 2918\u001B[0m     \u001B[38;5;28;01mreturn\u001B[39;00m \u001B[43m_wrapreduction\u001B[49m\u001B[43m(\u001B[49m\u001B[43ma\u001B[49m\u001B[43m,\u001B[49m\u001B[43m \u001B[49m\u001B[43mnp\u001B[49m\u001B[38;5;241;43m.\u001B[39;49m\u001B[43mminimum\u001B[49m\u001B[43m,\u001B[49m\u001B[43m \u001B[49m\u001B[38;5;124;43m'\u001B[39;49m\u001B[38;5;124;43mmin\u001B[39;49m\u001B[38;5;124;43m'\u001B[39;49m\u001B[43m,\u001B[49m\u001B[43m \u001B[49m\u001B[43maxis\u001B[49m\u001B[43m,\u001B[49m\u001B[43m \u001B[49m\u001B[38;5;28;43;01mNone\u001B[39;49;00m\u001B[43m,\u001B[49m\u001B[43m \u001B[49m\u001B[43mout\u001B[49m\u001B[43m,\u001B[49m\n\u001B[1;32m   2919\u001B[0m \u001B[43m                          \u001B[49m\u001B[43mkeepdims\u001B[49m\u001B[38;5;241;43m=\u001B[39;49m\u001B[43mkeepdims\u001B[49m\u001B[43m,\u001B[49m\u001B[43m \u001B[49m\u001B[43minitial\u001B[49m\u001B[38;5;241;43m=\u001B[39;49m\u001B[43minitial\u001B[49m\u001B[43m,\u001B[49m\u001B[43m \u001B[49m\u001B[43mwhere\u001B[49m\u001B[38;5;241;43m=\u001B[39;49m\u001B[43mwhere\u001B[49m\u001B[43m)\u001B[49m\n",
      "File \u001B[0;32m~/miniconda3/envs/cat/lib/python3.10/site-packages/numpy/core/fromnumeric.py:86\u001B[0m, in \u001B[0;36m_wrapreduction\u001B[0;34m(obj, ufunc, method, axis, dtype, out, **kwargs)\u001B[0m\n\u001B[1;32m     83\u001B[0m         \u001B[38;5;28;01melse\u001B[39;00m:\n\u001B[1;32m     84\u001B[0m             \u001B[38;5;28;01mreturn\u001B[39;00m reduction(axis\u001B[38;5;241m=\u001B[39maxis, out\u001B[38;5;241m=\u001B[39mout, \u001B[38;5;241m*\u001B[39m\u001B[38;5;241m*\u001B[39mpasskwargs)\n\u001B[0;32m---> 86\u001B[0m \u001B[38;5;28;01mreturn\u001B[39;00m \u001B[43mufunc\u001B[49m\u001B[38;5;241;43m.\u001B[39;49m\u001B[43mreduce\u001B[49m\u001B[43m(\u001B[49m\u001B[43mobj\u001B[49m\u001B[43m,\u001B[49m\u001B[43m \u001B[49m\u001B[43maxis\u001B[49m\u001B[43m,\u001B[49m\u001B[43m \u001B[49m\u001B[43mdtype\u001B[49m\u001B[43m,\u001B[49m\u001B[43m \u001B[49m\u001B[43mout\u001B[49m\u001B[43m,\u001B[49m\u001B[43m \u001B[49m\u001B[38;5;241;43m*\u001B[39;49m\u001B[38;5;241;43m*\u001B[39;49m\u001B[43mpasskwargs\u001B[49m\u001B[43m)\u001B[49m\n",
      "\u001B[0;31mKeyboardInterrupt\u001B[0m: "
     ]
    }
   ],
   "source": [
    "# 获取参数\n",
    "cfg = Config() \n",
    "# 训练\n",
    "env, agent = env_agent_config(cfg)\n",
    "res_dic = train(cfg, env, agent)\n",
    " \n",
    "plot_rewards(res_dic['rewards'], title=f\"training curve on {cfg.device} of {cfg.algo_name} for {cfg.env_name}\")  \n",
    "# 测试\n",
    "res_dic = test(cfg, env, agent)\n",
    "plot_rewards(res_dic['rewards'], title=f\"testing curve on {cfg.device} of {cfg.algo_name} for {cfg.env_name}\")  # 画出结果"
   ]
  },
  {
   "cell_type": "code",
   "execution_count": null,
   "outputs": [],
   "source": [],
   "metadata": {
    "collapsed": false
   }
  }
 ],
 "metadata": {
  "kernelspec": {
   "display_name": "Python 3.7.12 ('easyrl')",
   "language": "python",
   "name": "python3"
  },
  "language_info": {
   "codemirror_mode": {
    "name": "ipython",
    "version": 3
   },
   "file_extension": ".py",
   "mimetype": "text/x-python",
   "name": "python",
   "nbconvert_exporter": "python",
   "pygments_lexer": "ipython3",
   "version": "3.7.12"
  },
  "orig_nbformat": 4,
  "vscode": {
   "interpreter": {
    "hash": "f5a9629e9f3b9957bf68a43815f911e93447d47b3d065b6a8a04975e44c504d9"
   }
  }
 },
 "nbformat": 4,
 "nbformat_minor": 2
}
